{
  "nbformat": 4,
  "nbformat_minor": 0,
  "metadata": {
    "colab": {
      "provenance": [],
      "authorship_tag": "ABX9TyOsSGmkFuz6aCT4grzxlQJi",
      "include_colab_link": true
    },
    "kernelspec": {
      "name": "python3",
      "display_name": "Python 3"
    },
    "language_info": {
      "name": "python"
    }
  },
  "cells": [
    {
      "cell_type": "markdown",
      "metadata": {
        "id": "view-in-github",
        "colab_type": "text"
      },
      "source": [
        "<a href=\"https://colab.research.google.com/github/DATAdotPDF/DNC/blob/main/RID211401_Case_Python.ipynb\" target=\"_parent\"><img src=\"https://colab.research.google.com/assets/colab-badge.svg\" alt=\"Open In Colab\"/></a>"
      ]
    },
    {
      "cell_type": "markdown",
      "source": [
        "ETAPA 1 - STEP TIPOS DE DADOS E OPERADORES"
      ],
      "metadata": {
        "id": "bQ37bw6WHb-Y"
      }
    },
    {
      "cell_type": "code",
      "execution_count": null,
      "metadata": {
        "colab": {
          "base_uri": "https://localhost:8080/"
        },
        "id": "fm2UCVjyGz31",
        "outputId": "26d3b87b-4133-4d86-b991-24d9b0405e1a"
      },
      "outputs": [
        {
          "output_type": "stream",
          "name": "stdout",
          "text": [
            "Digite uma tarefa: Estudar Python\n",
            "Tarefa foi adicionada!\n",
            "Tarefas:  Estudar Python\n"
          ]
        }
      ],
      "source": [
        "tarefa = input(\"Digite uma tarefa: \")\n",
        "\n",
        "print(\"Tarefa foi adicionada!\")\n",
        "print(\"Tarefas: \", tarefa)"
      ]
    },
    {
      "cell_type": "markdown",
      "source": [
        "ETAPA 2 - STEP ESTRUTURAS DE CONTROLE"
      ],
      "metadata": {
        "id": "FQNLvNlhBM7D"
      }
    },
    {
      "cell_type": "code",
      "source": [
        "while True:\n",
        "  opcao = input(\"Digite uma tarefa: (ou 'sair' para finalizar): \")\n",
        "  if opcao.lower() == 'sair':\n",
        "    break\n",
        "  tarefa = opcao\n",
        "\n",
        "  print(\"Tarefa adicionada: \", tarefa)\n",
        "print(\"Ultima tarefa adicionada: \", tarefa)"
      ],
      "metadata": {
        "colab": {
          "base_uri": "https://localhost:8080/"
        },
        "id": "h39zLzlRBYmi",
        "outputId": "4bdccbd7-fdb0-4500-bf5f-c9a75d0ca98c"
      },
      "execution_count": null,
      "outputs": [
        {
          "output_type": "stream",
          "name": "stdout",
          "text": [
            "Digite uma tarefa: (ou 'sair' para finalizar): Estudar Python\n",
            "Tarefa adicionada:  Estudar Python\n",
            "Digite uma tarefa: (ou 'sair' para finalizar): Ouvir Musica\n",
            "Tarefa adicionada:  Ouvir Musica\n",
            "Digite uma tarefa: (ou 'sair' para finalizar): SAIR\n",
            "Ultima tarefa adicionada:  Ouvir Musica\n"
          ]
        }
      ]
    },
    {
      "cell_type": "markdown",
      "source": [
        "ETAPA 3 - STEP ESTRUTURA DE DADOS"
      ],
      "metadata": {
        "id": "Bgn2-E0H1qYx"
      }
    },
    {
      "cell_type": "code",
      "source": [
        "import json\n",
        "\n",
        "tarefas = []\n",
        "\n",
        "def salvar_tarefas():\n",
        "  with open('tarefas.json', 'w') as arquivo:\n",
        "    json.dump(tarefas, arquivo, indent=4)\n",
        "  print(\"Tarefas salvas com sucesso!\")\n",
        "\n",
        "def carregar_tarefas():\n",
        "  try:\n",
        "    with open('tarefas.json', 'r') as arquivo:\n",
        "      tarefa = json.loads(arquivo)\n",
        "      print(\"Tarefas carregadas com sucesso!\")\n",
        "      return tarefas\n",
        "  except:\n",
        "    print(\"Nenhuma tarefa encontrada! Iniciando uma nova lista!\")\n",
        "    return []\n",
        "\n",
        "def adicionar_tarefa(nome, prioridade):\n",
        "  tarefa = {\n",
        "      'nome': nome,\n",
        "      'prioridade': prioridade\n",
        "  }\n",
        "  tarefas.append(tarefa)\n",
        "  print(\"Tarefa Adicionada: \", tarefa)\n",
        "\n",
        "def listar_tarefas():\n",
        "  print(\"Lista de Tarefas: \")\n",
        "  for tarefa in tarefas:\n",
        "    print(f\"-{tarefa['nome']}(Prioridade {tarefa['prioridade']})\")\n",
        "\n",
        "def remover_tarefas(nome):\n",
        "  for tarefa in tarefas:\n",
        "    if tarefa['nome'] == nome:\n",
        "      tarefas.remove(tarefa)\n",
        "      print(\"Tarefa Removida:\", nome)\n",
        "      break\n",
        "  else:\n",
        "      print(\"Tarefa não foi encontrada!\")\n",
        "\n",
        "tarefas = carregar_tarefas()\n",
        "\n",
        "while True:\n",
        "  print('** Menu de opcoes **')\n",
        "  print(\"1. Adicionar uma tarefa\")\n",
        "  print(\"2. Lista Tarefas\")\n",
        "  print(\"3. Remover Tarefa\")\n",
        "  print(\"4. Salvar Tarefas\")\n",
        "  print(\"5. Sair\")\n",
        "\n",
        "  opcao = input(\"Escolha uma opcao: \")\n",
        "  if opcao == '1':\n",
        "    nome = input('Digite o nome da tarefa: ')\n",
        "    prioridade = input('Digite a prioridade da tarefa')\n",
        "\n",
        "    adicionar_tarefa(nome, prioridade)\n",
        "\n",
        "  elif opcao == '2':\n",
        "    listar_tarefas()\n",
        "\n",
        "  elif opcao == '3':\n",
        "    nome = input(\"Digite o nome da tarefa a ser removida: \")\n",
        "    remover_tarefas(nome)\n",
        "\n",
        "  elif opcao == '4':\n",
        "    salvar_tarefas()\n",
        "\n",
        "  elif opcao == '5':\n",
        "    tarefa = input('Saindo...')\n",
        "    break\n",
        "\n",
        "  else:\n",
        "    print(\"Opcao invalida! \")"
      ],
      "metadata": {
        "colab": {
          "base_uri": "https://localhost:8080/",
          "height": 755
        },
        "id": "3kLhG0VE1uJP",
        "outputId": "495134bd-06e9-4b94-d7be-88cf4c98f741",
        "collapsed": true
      },
      "execution_count": 7,
      "outputs": [
        {
          "output_type": "stream",
          "name": "stdout",
          "text": [
            "Nenhuma tarefa encontrada! Iniciando uma nova lista!\n",
            "** Menu de opcoes **\n",
            "1. Adicionar uma tarefa\n",
            "2. Lista Tarefas\n",
            "3. Remover Tarefa\n",
            "4. Salvar Tarefas\n",
            "5. Sair\n",
            "Escolha uma opcao: 2\n",
            "Lista de Tarefas: \n",
            "** Menu de opcoes **\n",
            "1. Adicionar uma tarefa\n",
            "2. Lista Tarefas\n",
            "3. Remover Tarefa\n",
            "4. Salvar Tarefas\n",
            "5. Sair\n",
            "Escolha uma opcao: 2\n",
            "Lista de Tarefas: \n",
            "** Menu de opcoes **\n",
            "1. Adicionar uma tarefa\n",
            "2. Lista Tarefas\n",
            "3. Remover Tarefa\n",
            "4. Salvar Tarefas\n",
            "5. Sair\n"
          ]
        },
        {
          "output_type": "error",
          "ename": "KeyboardInterrupt",
          "evalue": "Interrupted by user",
          "traceback": [
            "\u001b[0;31m---------------------------------------------------------------------------\u001b[0m",
            "\u001b[0;31mKeyboardInterrupt\u001b[0m                         Traceback (most recent call last)",
            "\u001b[0;32m<ipython-input-7-3b40c043b4ee>\u001b[0m in \u001b[0;36m<cell line: 0>\u001b[0;34m()\u001b[0m\n\u001b[1;32m     50\u001b[0m   \u001b[0mprint\u001b[0m\u001b[0;34m(\u001b[0m\u001b[0;34m\"5. Sair\"\u001b[0m\u001b[0;34m)\u001b[0m\u001b[0;34m\u001b[0m\u001b[0;34m\u001b[0m\u001b[0m\n\u001b[1;32m     51\u001b[0m \u001b[0;34m\u001b[0m\u001b[0m\n\u001b[0;32m---> 52\u001b[0;31m   \u001b[0mopcao\u001b[0m \u001b[0;34m=\u001b[0m \u001b[0minput\u001b[0m\u001b[0;34m(\u001b[0m\u001b[0;34m\"Escolha uma opcao: \"\u001b[0m\u001b[0;34m)\u001b[0m\u001b[0;34m\u001b[0m\u001b[0;34m\u001b[0m\u001b[0m\n\u001b[0m\u001b[1;32m     53\u001b[0m   \u001b[0;32mif\u001b[0m \u001b[0mopcao\u001b[0m \u001b[0;34m==\u001b[0m \u001b[0;34m'1'\u001b[0m\u001b[0;34m:\u001b[0m\u001b[0;34m\u001b[0m\u001b[0;34m\u001b[0m\u001b[0m\n\u001b[1;32m     54\u001b[0m     \u001b[0mnome\u001b[0m \u001b[0;34m=\u001b[0m \u001b[0minput\u001b[0m\u001b[0;34m(\u001b[0m\u001b[0;34m'Digite o nome da tarefa: '\u001b[0m\u001b[0;34m)\u001b[0m\u001b[0;34m\u001b[0m\u001b[0;34m\u001b[0m\u001b[0m\n",
            "\u001b[0;32m/usr/local/lib/python3.11/dist-packages/ipykernel/kernelbase.py\u001b[0m in \u001b[0;36mraw_input\u001b[0;34m(self, prompt)\u001b[0m\n\u001b[1;32m   1175\u001b[0m                 \u001b[0;34m\"raw_input was called, but this frontend does not support input requests.\"\u001b[0m\u001b[0;34m\u001b[0m\u001b[0;34m\u001b[0m\u001b[0m\n\u001b[1;32m   1176\u001b[0m             )\n\u001b[0;32m-> 1177\u001b[0;31m         return self._input_request(\n\u001b[0m\u001b[1;32m   1178\u001b[0m             \u001b[0mstr\u001b[0m\u001b[0;34m(\u001b[0m\u001b[0mprompt\u001b[0m\u001b[0;34m)\u001b[0m\u001b[0;34m,\u001b[0m\u001b[0;34m\u001b[0m\u001b[0;34m\u001b[0m\u001b[0m\n\u001b[1;32m   1179\u001b[0m             \u001b[0mself\u001b[0m\u001b[0;34m.\u001b[0m\u001b[0m_parent_ident\u001b[0m\u001b[0;34m[\u001b[0m\u001b[0;34m\"shell\"\u001b[0m\u001b[0;34m]\u001b[0m\u001b[0;34m,\u001b[0m\u001b[0;34m\u001b[0m\u001b[0;34m\u001b[0m\u001b[0m\n",
            "\u001b[0;32m/usr/local/lib/python3.11/dist-packages/ipykernel/kernelbase.py\u001b[0m in \u001b[0;36m_input_request\u001b[0;34m(self, prompt, ident, parent, password)\u001b[0m\n\u001b[1;32m   1217\u001b[0m             \u001b[0;32mexcept\u001b[0m \u001b[0mKeyboardInterrupt\u001b[0m\u001b[0;34m:\u001b[0m\u001b[0;34m\u001b[0m\u001b[0;34m\u001b[0m\u001b[0m\n\u001b[1;32m   1218\u001b[0m                 \u001b[0;31m# re-raise KeyboardInterrupt, to truncate traceback\u001b[0m\u001b[0;34m\u001b[0m\u001b[0;34m\u001b[0m\u001b[0m\n\u001b[0;32m-> 1219\u001b[0;31m                 \u001b[0;32mraise\u001b[0m \u001b[0mKeyboardInterrupt\u001b[0m\u001b[0;34m(\u001b[0m\u001b[0;34m\"Interrupted by user\"\u001b[0m\u001b[0;34m)\u001b[0m \u001b[0;32mfrom\u001b[0m \u001b[0;32mNone\u001b[0m\u001b[0;34m\u001b[0m\u001b[0;34m\u001b[0m\u001b[0m\n\u001b[0m\u001b[1;32m   1220\u001b[0m             \u001b[0;32mexcept\u001b[0m \u001b[0mException\u001b[0m\u001b[0;34m:\u001b[0m\u001b[0;34m\u001b[0m\u001b[0;34m\u001b[0m\u001b[0m\n\u001b[1;32m   1221\u001b[0m                 \u001b[0mself\u001b[0m\u001b[0;34m.\u001b[0m\u001b[0mlog\u001b[0m\u001b[0;34m.\u001b[0m\u001b[0mwarning\u001b[0m\u001b[0;34m(\u001b[0m\u001b[0;34m\"Invalid Message:\"\u001b[0m\u001b[0;34m,\u001b[0m \u001b[0mexc_info\u001b[0m\u001b[0;34m=\u001b[0m\u001b[0;32mTrue\u001b[0m\u001b[0;34m)\u001b[0m\u001b[0;34m\u001b[0m\u001b[0;34m\u001b[0m\u001b[0m\n",
            "\u001b[0;31mKeyboardInterrupt\u001b[0m: Interrupted by user"
          ]
        }
      ]
    },
    {
      "cell_type": "code",
      "source": [],
      "metadata": {
        "id": "xZGqncehynBR"
      },
      "execution_count": null,
      "outputs": []
    }
  ]
}