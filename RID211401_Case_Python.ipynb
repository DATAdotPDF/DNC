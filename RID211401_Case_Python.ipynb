import json

tarefas = []

def salvar_tarefas():
  with open('tarefas.json', 'w') as arquivo:
    json.dump(tarefas, arquivo, indent=4)
  print("Tarefas salvas com sucesso!")

def carregar_tarefas():
  try:
    with open('tarefas.json', 'r') as arquivo:
      tarefa = json.loads(arquivo)
      print("Tarefas carregadas com sucesso!")
      return tarefas
  except:
    print("Nenhuma tarefa encontrada! Iniciando uma nova lista!")
    return []

def adicionar_tarefa(nome, prioridade):
  tarefa = {
      'nome': nome,
      'prioridade': prioridade
  }
  tarefas.append(tarefa)
  print("Tarefa Adicionada: ", tarefa)

def listar_tarefas():
  print("Lista de Tarefas: ")
  for tarefa in tarefas:
    print(f"-{tarefa['nome']}(Prioridade {tarefa['prioridade']})")

def remover_tarefas(nome):
  for tarefa in tarefas:
    if tarefa['nome'] == nome:
      tarefas.remove(tarefa)
      print("Tarefa Removida:", nome)
      break
  else:
      print("Tarefa não foi encontrada!")

tarefas = carregar_tarefas()

while True:
  print('** Menu de opcoes **')
  print("1. Adicionar uma tarefa")
  print("2. Lista Tarefas")
  print("3. Remover Tarefa")
  print("4. Salvar Tarefas")
  print("5. Sair")

  opcao = input("Escolha uma opcao: ")
  if opcao == '1':
    nome = input('Digite o nome da tarefa: ')
    prioridade = input('Digite a prioridade da tarefa')

    adicionar_tarefa(nome, prioridade)

  elif opcao == '2':
    listar_tarefas()

  elif opcao == '3':  
    nome = input("Digite o nome da tarefa a ser removida: ")
    remover_tarefas(nome)

  elif opcao == '4':  
    salvar_tarefas()

  elif opcao == '5':
    tarefa = input('Saindo...')
    break

  else:
    print("Opcao invalida! ")
