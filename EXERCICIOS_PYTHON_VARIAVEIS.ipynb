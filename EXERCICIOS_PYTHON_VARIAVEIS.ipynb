{
  "nbformat": 4,
  "nbformat_minor": 0,
  "metadata": {
    "colab": {
      "provenance": [],
      "authorship_tag": "ABX9TyPiUdCJJVmwNl4pdDhreyih",
      "include_colab_link": true
    },
    "kernelspec": {
      "name": "python3",
      "display_name": "Python 3"
    },
    "language_info": {
      "name": "python"
    }
  },
  "cells": [
    {
      "cell_type": "markdown",
      "metadata": {
        "id": "view-in-github",
        "colab_type": "text"
      },
      "source": [
        "<a href=\"https://colab.research.google.com/github/DATAdotPDF/DNC/blob/main/EXERCICIOS_PYTHON_VARIAVEIS.ipynb\" target=\"_parent\"><img src=\"https://colab.research.google.com/assets/colab-badge.svg\" alt=\"Open In Colab\"/></a>"
      ]
    },
    {
      "cell_type": "code",
      "execution_count": 1,
      "metadata": {
        "id": "4gKHWReXKf_w"
      },
      "outputs": [],
      "source": [
        "nome = \"Pedro\"\n",
        "idade = 30\n",
        "cidade = \"Rio de Janeiro\""
      ]
    },
    {
      "cell_type": "code",
      "source": [
        "print(\"Meu nome é\",(nome))\n",
        "print(\"Minha idade é\",(idade))\n",
        "print(\"Minha cidade é\",(cidade))"
      ],
      "metadata": {
        "colab": {
          "base_uri": "https://localhost:8080/"
        },
        "id": "-u1HdNGMLlWI",
        "outputId": "67c1876c-fe03-499f-8f5f-87bf3e80d3a4"
      },
      "execution_count": 9,
      "outputs": [
        {
          "output_type": "stream",
          "name": "stdout",
          "text": [
            "Meu nome é Pedro\n",
            "Minha idade é 30\n",
            "Minha cidade é Rio de Janeiro\n"
          ]
        }
      ]
    },
    {
      "cell_type": "code",
      "source": [
        "resultado = 20 ** 3\n",
        "print(resultado)"
      ],
      "metadata": {
        "colab": {
          "base_uri": "https://localhost:8080/"
        },
        "id": "s3ELkAd1O4Mv",
        "outputId": "0af44866-ef3b-4a11-d27a-1270342559d0"
      },
      "execution_count": 16,
      "outputs": [
        {
          "output_type": "stream",
          "name": "stdout",
          "text": [
            "8000\n"
          ]
        }
      ]
    },
    {
      "cell_type": "markdown",
      "source": [
        "Area do Retangulo"
      ],
      "metadata": {
        "id": "iGMbomHUQPFf"
      }
    },
    {
      "cell_type": "code",
      "source": [
        "largura = 5\n",
        "altura = 10\n",
        "area = largura * altura\n",
        "perimetro = 2 * (largura+altura)\n",
        "\n",
        "print(\"Area do retangulo: \", area)\n",
        "print(\"Perimetro do retangulo: \", perimetro)\n"
      ],
      "metadata": {
        "colab": {
          "base_uri": "https://localhost:8080/"
        },
        "id": "OUy9BuJOQVfk",
        "outputId": "e39f324f-ef48-47b0-cfd1-4d430ad03897"
      },
      "execution_count": 17,
      "outputs": [
        {
          "output_type": "stream",
          "name": "stdout",
          "text": [
            "Area do retangulo:  50\n",
            "Perimetro do retangulo:  30\n"
          ]
        }
      ]
    },
    {
      "cell_type": "markdown",
      "source": [
        "Calculadora"
      ],
      "metadata": {
        "id": "vQAmDXhbRGDx"
      }
    },
    {
      "cell_type": "code",
      "source": [
        "x = 50\n",
        "y = 3\n",
        "\n",
        "print(\"Adição: \", x+y)\n",
        "print(\"Subtração: \", x-y)\n",
        "print(\"Multiplicação: \", x*y)\n",
        "print(\"Divisão: \", x/y)\n",
        "print(\"Divisão Inteira: \", x//y)\n",
        "print(\"Resto da Divisão: \", x%y)\n",
        "print(\"Potência: \", x**y)\n"
      ],
      "metadata": {
        "colab": {
          "base_uri": "https://localhost:8080/"
        },
        "id": "ExuKzUutRHRt",
        "outputId": "14efbc24-a968-4a49-d84e-e784264f205a"
      },
      "execution_count": 18,
      "outputs": [
        {
          "output_type": "stream",
          "name": "stdout",
          "text": [
            "Adição:  53\n",
            "Subtração:  47\n",
            "Multiplicação:  150\n",
            "Divisão:  16.666666666666668\n",
            "Divisão Inteira:  16\n",
            "Resto da Divisão:  2\n",
            "Potência:  125000\n"
          ]
        }
      ]
    },
    {
      "cell_type": "markdown",
      "source": [
        "RELACIONAIS"
      ],
      "metadata": {
        "id": "0MGJy_A3UAQD"
      }
    },
    {
      "cell_type": "code",
      "source": [
        "x = 1\n",
        "y = 2\n",
        "\n",
        "eh_igual = x >= y\n",
        "print(eh_igual)"
      ],
      "metadata": {
        "colab": {
          "base_uri": "https://localhost:8080/"
        },
        "id": "G-k8a8xlUEF1",
        "outputId": "78540418-3fd2-4d2b-978e-f2027c34b5ac"
      },
      "execution_count": 19,
      "outputs": [
        {
          "output_type": "stream",
          "name": "stdout",
          "text": [
            "False\n"
          ]
        }
      ]
    },
    {
      "cell_type": "markdown",
      "source": [
        "COMPARANDO IDADES -- EXEMPLOS"
      ],
      "metadata": {
        "id": "B49bRfTsUMjU"
      }
    },
    {
      "cell_type": "code",
      "source": [
        "idade_pessoa1 = 26\n",
        "idade_pessoa2 = 26\n",
        "\n",
        "sao_iguais = idade_pessoa1 == idade_pessoa2\n",
        "\n",
        "print(\"As idades sao iguais: \", sao_iguais)"
      ],
      "metadata": {
        "colab": {
          "base_uri": "https://localhost:8080/"
        },
        "id": "g1NBjTruURA8",
        "outputId": "7d270639-17c4-4358-9faa-f0009a3fe9ca"
      },
      "execution_count": 21,
      "outputs": [
        {
          "output_type": "stream",
          "name": "stdout",
          "text": [
            "As idades sao iguais:  True\n"
          ]
        }
      ]
    },
    {
      "cell_type": "markdown",
      "source": [
        "CALCULADORA IMC"
      ],
      "metadata": {
        "id": "99ch-v-3UnKP"
      }
    },
    {
      "cell_type": "code",
      "source": [
        "altura = 1.81\n",
        "peso = 85.5\n",
        "\n",
        "imc = peso / (altura ** 2)\n",
        "\n",
        "print(\"IMC: \", imc)\n",
        "print(\"Maior que 25: \", imc > 25)\n",
        "print(\"Menor que 18.5: \", imc < 18.5)"
      ],
      "metadata": {
        "colab": {
          "base_uri": "https://localhost:8080/"
        },
        "id": "m1YPj6l-UokN",
        "outputId": "154c5831-1bad-4bae-a6ce-4099bc71d221"
      },
      "execution_count": 24,
      "outputs": [
        {
          "output_type": "stream",
          "name": "stdout",
          "text": [
            "IMC:  26.09810445346601\n",
            "Maior que 25:  True\n",
            "Menor que 18.5:  False\n"
          ]
        }
      ]
    },
    {
      "cell_type": "markdown",
      "source": [
        "PAR OU IMPAR"
      ],
      "metadata": {
        "id": "zDuiYQDhVQgN"
      }
    },
    {
      "cell_type": "code",
      "source": [
        "x = 4\n",
        "\n",
        "resto_divisao = x%2\n",
        "print(\"É par:\", resto_divisao == 0)"
      ],
      "metadata": {
        "colab": {
          "base_uri": "https://localhost:8080/"
        },
        "id": "CqkL523cVTh9",
        "outputId": "c2e41443-ce22-4c96-be6f-f8108577f9c3"
      },
      "execution_count": 26,
      "outputs": [
        {
          "output_type": "stream",
          "name": "stdout",
          "text": [
            "É par: True\n"
          ]
        }
      ]
    },
    {
      "cell_type": "code",
      "source": [
        "vai_chover = True\n",
        "tenho_guardachuva = True\n",
        "\n",
        "nao_preciso_guardachuva = not vai_chover\n",
        "\n",
        "print(vai_chover and tenho_guardachuva)"
      ],
      "metadata": {
        "colab": {
          "base_uri": "https://localhost:8080/"
        },
        "id": "rzpmkE5IV-II",
        "outputId": "ba8d8ac0-ef5f-4ee2-b29c-9218b92d099a"
      },
      "execution_count": 32,
      "outputs": [
        {
          "output_type": "stream",
          "name": "stdout",
          "text": [
            "True\n"
          ]
        }
      ]
    },
    {
      "cell_type": "code",
      "source": [
        "print (not vai_chover)"
      ],
      "metadata": {
        "colab": {
          "base_uri": "https://localhost:8080/"
        },
        "id": "Cq0maBAdW6cV",
        "outputId": "f816c85b-a270-4274-8950-e0fbff669ec7"
      },
      "execution_count": 31,
      "outputs": [
        {
          "output_type": "stream",
          "name": "stdout",
          "text": [
            "False\n"
          ]
        }
      ]
    },
    {
      "cell_type": "code",
      "source": [
        "aluno_presente = False\n",
        "fez_trabalho = False\n",
        "\n",
        "recebe_pt = aluno_presente or fez_trabalho\n",
        "\n",
        "print(recebe_pt)"
      ],
      "metadata": {
        "colab": {
          "base_uri": "https://localhost:8080/"
        },
        "id": "_kAlQhL8XF1w",
        "outputId": "88de1931-6bfd-428f-b4d3-90b225dd9537"
      },
      "execution_count": 35,
      "outputs": [
        {
          "output_type": "stream",
          "name": "stdout",
          "text": [
            "False\n"
          ]
        }
      ]
    },
    {
      "cell_type": "code",
      "source": [
        "idade = 17\n",
        "aceite_termos = True\n",
        "\n",
        "pode_jogar = idade >= 18 and aceite_termos\n",
        "print(pode_jogar)"
      ],
      "metadata": {
        "colab": {
          "base_uri": "https://localhost:8080/"
        },
        "id": "EjV5q6w8XULu",
        "outputId": "7b39074b-9fdf-417b-83ad-9d9c516ca59a"
      },
      "execution_count": 40,
      "outputs": [
        {
          "output_type": "stream",
          "name": "stdout",
          "text": [
            "False\n"
          ]
        }
      ]
    },
    {
      "cell_type": "code",
      "source": [
        "idade = \"30\"\n",
        "print(30 == int(idade))"
      ],
      "metadata": {
        "colab": {
          "base_uri": "https://localhost:8080/"
        },
        "id": "vBPgLGXMYBM_",
        "outputId": "d2a057f7-e015-40f4-8df1-2aeb643ea147"
      },
      "execution_count": 43,
      "outputs": [
        {
          "output_type": "stream",
          "name": "stdout",
          "text": [
            "True\n"
          ]
        }
      ]
    },
    {
      "cell_type": "code",
      "source": [
        "entrada = int(input(\"Digite um numero: \"))"
      ],
      "metadata": {
        "colab": {
          "base_uri": "https://localhost:8080/",
          "height": 287
        },
        "id": "wqej9jIeZTw8",
        "outputId": "a6854dda-eaf5-4ee1-a789-fe3272b0667d"
      },
      "execution_count": 59,
      "outputs": [
        {
          "output_type": "error",
          "ename": "KeyboardInterrupt",
          "evalue": "Interrupted by user",
          "traceback": [
            "\u001b[0;31m---------------------------------------------------------------------------\u001b[0m",
            "\u001b[0;31mKeyboardInterrupt\u001b[0m                         Traceback (most recent call last)",
            "\u001b[0;32m<ipython-input-59-4d81ac80a6c6>\u001b[0m in \u001b[0;36m<cell line: 0>\u001b[0;34m()\u001b[0m\n\u001b[0;32m----> 1\u001b[0;31m \u001b[0mentrada\u001b[0m \u001b[0;34m=\u001b[0m \u001b[0mint\u001b[0m\u001b[0;34m(\u001b[0m\u001b[0minput\u001b[0m\u001b[0;34m(\u001b[0m\u001b[0;34m\"Digite um numero: \"\u001b[0m\u001b[0;34m)\u001b[0m\u001b[0;34m)\u001b[0m\u001b[0;34m\u001b[0m\u001b[0;34m\u001b[0m\u001b[0m\n\u001b[0m",
            "\u001b[0;32m/usr/local/lib/python3.11/dist-packages/ipykernel/kernelbase.py\u001b[0m in \u001b[0;36mraw_input\u001b[0;34m(self, prompt)\u001b[0m\n\u001b[1;32m   1175\u001b[0m                 \u001b[0;34m\"raw_input was called, but this frontend does not support input requests.\"\u001b[0m\u001b[0;34m\u001b[0m\u001b[0;34m\u001b[0m\u001b[0m\n\u001b[1;32m   1176\u001b[0m             )\n\u001b[0;32m-> 1177\u001b[0;31m         return self._input_request(\n\u001b[0m\u001b[1;32m   1178\u001b[0m             \u001b[0mstr\u001b[0m\u001b[0;34m(\u001b[0m\u001b[0mprompt\u001b[0m\u001b[0;34m)\u001b[0m\u001b[0;34m,\u001b[0m\u001b[0;34m\u001b[0m\u001b[0;34m\u001b[0m\u001b[0m\n\u001b[1;32m   1179\u001b[0m             \u001b[0mself\u001b[0m\u001b[0;34m.\u001b[0m\u001b[0m_parent_ident\u001b[0m\u001b[0;34m[\u001b[0m\u001b[0;34m\"shell\"\u001b[0m\u001b[0;34m]\u001b[0m\u001b[0;34m,\u001b[0m\u001b[0;34m\u001b[0m\u001b[0;34m\u001b[0m\u001b[0m\n",
            "\u001b[0;32m/usr/local/lib/python3.11/dist-packages/ipykernel/kernelbase.py\u001b[0m in \u001b[0;36m_input_request\u001b[0;34m(self, prompt, ident, parent, password)\u001b[0m\n\u001b[1;32m   1217\u001b[0m             \u001b[0;32mexcept\u001b[0m \u001b[0mKeyboardInterrupt\u001b[0m\u001b[0;34m:\u001b[0m\u001b[0;34m\u001b[0m\u001b[0;34m\u001b[0m\u001b[0m\n\u001b[1;32m   1218\u001b[0m                 \u001b[0;31m# re-raise KeyboardInterrupt, to truncate traceback\u001b[0m\u001b[0;34m\u001b[0m\u001b[0;34m\u001b[0m\u001b[0m\n\u001b[0;32m-> 1219\u001b[0;31m                 \u001b[0;32mraise\u001b[0m \u001b[0mKeyboardInterrupt\u001b[0m\u001b[0;34m(\u001b[0m\u001b[0;34m\"Interrupted by user\"\u001b[0m\u001b[0;34m)\u001b[0m \u001b[0;32mfrom\u001b[0m \u001b[0;32mNone\u001b[0m\u001b[0;34m\u001b[0m\u001b[0;34m\u001b[0m\u001b[0m\n\u001b[0m\u001b[1;32m   1220\u001b[0m             \u001b[0;32mexcept\u001b[0m \u001b[0mException\u001b[0m\u001b[0;34m:\u001b[0m\u001b[0;34m\u001b[0m\u001b[0;34m\u001b[0m\u001b[0m\n\u001b[1;32m   1221\u001b[0m                 \u001b[0mself\u001b[0m\u001b[0;34m.\u001b[0m\u001b[0mlog\u001b[0m\u001b[0;34m.\u001b[0m\u001b[0mwarning\u001b[0m\u001b[0;34m(\u001b[0m\u001b[0;34m\"Invalid Message:\"\u001b[0m\u001b[0;34m,\u001b[0m \u001b[0mexc_info\u001b[0m\u001b[0;34m=\u001b[0m\u001b[0;32mTrue\u001b[0m\u001b[0;34m)\u001b[0m\u001b[0;34m\u001b[0m\u001b[0;34m\u001b[0m\u001b[0m\n",
            "\u001b[0;31mKeyboardInterrupt\u001b[0m: Interrupted by user"
          ]
        }
      ]
    },
    {
      "cell_type": "code",
      "source": [
        "entrada + 2"
      ],
      "metadata": {
        "colab": {
          "base_uri": "https://localhost:8080/"
        },
        "id": "aMx-I6XgZcQJ",
        "outputId": "a17c30e5-ccb3-4bf7-e303-b360ae7e145d"
      },
      "execution_count": 57,
      "outputs": [
        {
          "output_type": "execute_result",
          "data": {
            "text/plain": [
              "8"
            ]
          },
          "metadata": {},
          "execution_count": 57
        }
      ]
    },
    {
      "cell_type": "code",
      "source": [
        "largura = float(input(\"Digite a largura: \"))\n",
        "altura = float (input(\"Digite a altura: \"))\n",
        "\n",
        "metrica = \"Area\"\n",
        "metrica2 = \"Perimetro\"\n",
        "\n",
        "area = largura * altura\n",
        "perimetro =  2 * largura + altura\n",
        "print(\"%s: %.2f %s: %.2f\" %(metrica, area, metrica, perimetro))\n",
        "print(f\"{metrica}: {area: .2f}, {metrica2}: {perimetro: .2f}\")\n",
        "#print(\"Perimetro: \", perimetro)"
      ],
      "metadata": {
        "colab": {
          "base_uri": "https://localhost:8080/"
        },
        "id": "tN29ZDjUZ4Tf",
        "outputId": "c73e8d28-6222-4901-d965-e83c5a951028"
      },
      "execution_count": 11,
      "outputs": [
        {
          "output_type": "stream",
          "name": "stdout",
          "text": [
            "Digite a largura: 5.5\n",
            "Digite a altura: 2.7\n",
            "Area: 14.85 Area: 13.70\n",
            "Area:  14.85, Perimetro:  13.70\n"
          ]
        }
      ]
    },
    {
      "cell_type": "code",
      "source": [
        "nota1 = float(input(\"Digite a nota1: \"))\n",
        "nota2 = float(input(\"Digite a nota2: \"))\n",
        "\n",
        "media = (nota1 / nota2)/2\n",
        "\n",
        "print(\"Media: \", media)"
      ],
      "metadata": {
        "colab": {
          "base_uri": "https://localhost:8080/"
        },
        "id": "-3x3LXf7aeVT",
        "outputId": "9fe3ff0f-877d-4628-c4ed-b858ba8a588c"
      },
      "execution_count": 62,
      "outputs": [
        {
          "output_type": "stream",
          "name": "stdout",
          "text": [
            "Digite a nota1: 7\n",
            "Digite a nota2: 5\n",
            "Media:  0.7\n"
          ]
        }
      ]
    },
    {
      "cell_type": "code",
      "source": [
        "a = 10\n",
        "b = 5\n",
        "\n",
        "soma = a+b\n",
        "print(f\"Soma: {a + b}\")"
      ],
      "metadata": {
        "colab": {
          "base_uri": "https://localhost:8080/"
        },
        "id": "D6i7L7JhFFGU",
        "outputId": "c73bf3b5-7aba-4391-cfa6-c4bf211261e2"
      },
      "execution_count": 13,
      "outputs": [
        {
          "output_type": "stream",
          "name": "stdout",
          "text": [
            "Soma: 15\n"
          ]
        }
      ]
    },
    {
      "cell_type": "code",
      "source": [
        "valor_monetario = 1457.1389\n",
        "\n",
        "print(f\"Valor em reais R$ {valor_monetario:,.2f}\")"
      ],
      "metadata": {
        "colab": {
          "base_uri": "https://localhost:8080/"
        },
        "id": "25rmQ7JJFb-s",
        "outputId": "6ac3dadf-92e6-493a-e481-504f2ac59e72"
      },
      "execution_count": 14,
      "outputs": [
        {
          "output_type": "stream",
          "name": "stdout",
          "text": [
            "Valor em reais R$ 1,457.14\n"
          ]
        }
      ]
    },
    {
      "cell_type": "code",
      "source": [
        "Nome = input(\"Digite seu nome: \")\n",
        "Cidade = input(\"Digite sua cidade: \")\n",
        "\n",
        "print(f\"{Nome} mora em {Cidade}\")\n"
      ],
      "metadata": {
        "colab": {
          "base_uri": "https://localhost:8080/"
        },
        "id": "HCfY633JGR5L",
        "outputId": "30ccf6d3-ac62-4aed-b004-e7c51cac8488"
      },
      "execution_count": 15,
      "outputs": [
        {
          "output_type": "stream",
          "name": "stdout",
          "text": [
            "Digite seu nome: Pedro\n",
            "Digite sua cidade: Rio de Janeiro\n",
            "Pedro mora em Rio de Janeiro\n"
          ]
        }
      ]
    },
    {
      "cell_type": "code",
      "source": [
        "nota1 = float(input(\"Digite a nota1: \"))\n",
        "nota2 = float(input(\"Digite a nota2: \"))\n",
        "nota3 = float(input(\"Digite a nota3: \"))\n",
        "\n",
        "media = (nota1 + nota2 + nota3)/3\n",
        "\n",
        "print(\"Media: \", media)"
      ],
      "metadata": {
        "colab": {
          "base_uri": "https://localhost:8080/"
        },
        "id": "0iZgXIanNFrL",
        "outputId": "f68cda76-6594-4e3e-e783-515c912391cb"
      },
      "execution_count": 19,
      "outputs": [
        {
          "output_type": "stream",
          "name": "stdout",
          "text": [
            "Digite a nota1: 7\n",
            "Digite a nota2: 8\n",
            "Digite a nota3: 6\n",
            "Media:  7.0\n"
          ]
        }
      ]
    },
    {
      "cell_type": "code",
      "source": [
        "import math\n",
        "\n",
        "# Solicita o raio ao usuário\n",
        "raio = float(input(\"Digite o raio do círculo: \"))\n",
        "\n",
        "# Calcula a área usando a constante pi do módulo math\n",
        "area = math.pi * (raio ** 2)\n",
        "\n",
        "# Imprime a área formatada usando f-string\n",
        "print(f\"A área do círculo com raio {raio} é {area:.2f}\")"
      ],
      "metadata": {
        "colab": {
          "base_uri": "https://localhost:8080/"
        },
        "id": "Mi4VzBRLOM3r",
        "outputId": "31f7a352-65fb-4899-f556-15365d5c90ec"
      },
      "execution_count": 25,
      "outputs": [
        {
          "output_type": "stream",
          "name": "stdout",
          "text": [
            "Digite o raio do círculo: 5\n",
            "A área do círculo com raio 5.0 é 78.54\n"
          ]
        }
      ]
    },
    {
      "cell_type": "code",
      "source": [
        "celsius = float(input(\"Digite a temperatura em graus Celsius: \"))\n",
        "\n",
        "fahrenheit = (celsius * 9/5) + 32\n",
        "\n",
        "print(f\"Temperatura em Fahrenheit: {fahrenheit}\")"
      ],
      "metadata": {
        "colab": {
          "base_uri": "https://localhost:8080/"
        },
        "id": "xD5dAvMWP-qf",
        "outputId": "f03b83a4-a37a-44f2-81d6-8f3d691970b8"
      },
      "execution_count": 27,
      "outputs": [
        {
          "output_type": "stream",
          "name": "stdout",
          "text": [
            "Digite a temperatura em graus Celsius: 25\n",
            "Temperatura em Fahrenheit: 77.0\n"
          ]
        }
      ]
    },
    {
      "cell_type": "code",
      "source": [
        "Preço_Original = float(input(\"Digite o preço original do produto: \"))\n",
        "Desconto = float(input(\"Digite o desconto em porcentagem: \"))\n",
        "\n",
        "Preço_Final = Preço_Original - (Preço_Original * (Desconto / 100))\n",
        "\n",
        "print(f\"O preço final do produto é R$ {Preço_Final:.2f}\")"
      ],
      "metadata": {
        "colab": {
          "base_uri": "https://localhost:8080/"
        },
        "id": "d2rtg1xzQ1mU",
        "outputId": "1846e38a-a6e6-4cef-ffb8-8c491420d59c"
      },
      "execution_count": 28,
      "outputs": [
        {
          "output_type": "stream",
          "name": "stdout",
          "text": [
            "Digite o preço original do produto: 100\n",
            "Digite o desconto em porcentagem: 20\n",
            "O preço final do produto é R$ 80.00\n"
          ]
        }
      ]
    },
    {
      "cell_type": "code",
      "source": [
        "idade = input(f\"Digite sua idade: \")\n",
        "\n",
        "if int(idade) > 18:\n",
        "  print(\"Você é maior de idade\")\n",
        "else:\n",
        "  print(\"Você é menor de idade\")"
      ],
      "metadata": {
        "colab": {
          "base_uri": "https://localhost:8080/"
        },
        "id": "LB35m4Q0RYy4",
        "outputId": "b3609ec7-e0c2-4a0c-902d-ac4c0b4c7187"
      },
      "execution_count": 32,
      "outputs": [
        {
          "output_type": "stream",
          "name": "stdout",
          "text": [
            "Digite sua idade: 20\n",
            "Você é maior de idade\n"
          ]
        }
      ]
    },
    {
      "cell_type": "code",
      "source": [
        "admin = input(\"Você é administrador? (Sim/Não)\")\n",
        "idade = input(\"Digite sua idade: \")\n",
        "\n",
        "if int(idade) >= 18 and admin == \"Sim\":\n",
        " print(\"Acesso liberado\")\n",
        "else:\n",
        " print(\"Acesso negado\")"
      ],
      "metadata": {
        "colab": {
          "base_uri": "https://localhost:8080/"
        },
        "id": "O_4kB4TaUFDf",
        "outputId": "12af6c8b-be22-45dd-c1c4-175bff480c39"
      },
      "execution_count": 39,
      "outputs": [
        {
          "output_type": "stream",
          "name": "stdout",
          "text": [
            "Você é administrador? (Sim/Não)Sim\n",
            "Digite sua idade: 20\n",
            "Acesso liberado\n"
          ]
        }
      ]
    },
    {
      "cell_type": "code",
      "source": [
        "numero = int(input(\"Digite um numero: \"))\n",
        "\n",
        "if numero > 10 and numero % 2 == 0:\n",
        "    print(\"O numero é maior que 10 e par\")\n",
        "elif numero > 10:\n",
        "    print(\"O numero é maior que 10, mas não é par\")\n",
        "elif numero % 2 == 0:\n",
        "    print(\"O numero é par, mas não é maior que 10\")\n",
        "else:\n",
        "    print(\"O numero não é maior que 10 nem par\")"
      ],
      "metadata": {
        "colab": {
          "base_uri": "https://localhost:8080/"
        },
        "id": "GPrY6kQ4VjwI",
        "outputId": "f88594a4-9479-4b0d-f9f1-bb2c52a01b38"
      },
      "execution_count": 43,
      "outputs": [
        {
          "output_type": "stream",
          "name": "stdout",
          "text": [
            "Digite um numero: 12\n",
            "O numero é maior que 10 e par\n"
          ]
        }
      ]
    },
    {
      "cell_type": "code",
      "source": [
        "carteira_de_motorista = print(\"Você pode ter carteira de motorista?\")\n",
        "documento_em_dia = input(\"Seu documento está em dia? (Sim/Não)\")\n",
        "idade = int(input(\"Digite sua idade: \"))\n",
        "\n",
        "if idade >= 18 and documento_em_dia == \"Sim\":\n",
        "    print(\"Você tirar carteira de motorista\")\n",
        "else:\n",
        "    print(\"Você não pode dirigir\")"
      ],
      "metadata": {
        "colab": {
          "base_uri": "https://localhost:8080/"
        },
        "id": "ku-kkmaxYaKg",
        "outputId": "d57d0ced-2826-484c-f180-7f31bc9316ee"
      },
      "execution_count": 45,
      "outputs": [
        {
          "output_type": "stream",
          "name": "stdout",
          "text": [
            "Você pode ter carteira de motorista?\n",
            "Seu documento está em dia? (Sim/Não)Sim\n",
            "Digite sua idade: 17\n",
            "Você não pode dirigir\n"
          ]
        }
      ]
    },
    {
      "cell_type": "code",
      "source": [
        "valor_gasto = input(\"Digite o valor gasto: \")\n",
        "valor_gasto = float(valor_gasto)\n",
        "VIP = input(\"Você é VIP? (Sim/Não)\")\n",
        "\n",
        "if valor_gasto >= 100 or VIP == \"Sim\":\n",
        "    print(\"Você ganhou um brinde!\")"
      ],
      "metadata": {
        "colab": {
          "base_uri": "https://localhost:8080/"
        },
        "id": "8A231A07ZQp1",
        "outputId": "4e8ff94e-7c0e-4d7c-b85e-0caa9f812af1"
      },
      "execution_count": 47,
      "outputs": [
        {
          "output_type": "stream",
          "name": "stdout",
          "text": [
            "Digite o valor gasto: 80\n",
            "Você é VIP? (Sim/Não)Sim\n",
            "Você ganhou um brinde!\n"
          ]
        }
      ]
    }
  ]
}