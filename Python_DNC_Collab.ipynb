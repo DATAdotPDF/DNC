{
  "nbformat": 4,
  "nbformat_minor": 0,
  "metadata": {
    "colab": {
      "provenance": [],
      "authorship_tag": "ABX9TyOsSGmkFuz6aCT4grzxlQJi",
      "include_colab_link": true
    },
    "kernelspec": {
      "name": "python3",
      "display_name": "Python 3"
    },
    "language_info": {
      "name": "python"
    }
  },
  "cells": [
    {
      "cell_type": "markdown",
      "metadata": {
        "id": "view-in-github",
        "colab_type": "text"
      },
      "source": [
        "<a href=\"https://colab.research.google.com/github/DATAdotPDF/DNC/blob/main/RID211401_Case_Python.ipynb\" target=\"_parent\"><img src=\"https://colab.research.google.com/assets/colab-badge.svg\" alt=\"Open In Colab\"/></a>"
      ]
    },
    {
      "cell_type": "markdown",
      "source": [
        "ETAPA 1 - STEP TIPOS DE DADOS E OPERADORES"
      ],
      "metadata": {
        "id": "bQ37bw6WHb-Y"
      }
    },
    {
      "cell_type": "code",
      "execution_count": null,
      "metadata": {
        "colab": {
          "base_uri": "https://localhost:8080/"
        },
        "id": "fm2UCVjyGz31",
        "outputId": "26d3b87b-4133-4d86-b991-24d9b0405e1a"
      },
      "outputs": [
        {
          "output_type": "stream",
          "name": "stdout",
          "text": [
            "Digite uma tarefa: Estudar Python\n",
            "Tarefa foi adicionada!\n",
            "Tarefas:  Estudar Python\n"
          ]
        }
      ],
      "source": [
        "tarefa = input(\"Digite uma tarefa: \")\n",
        "\n",
        "print(\"Tarefa foi adicionada!\")\n",
        "print(\"Tarefas: \", tarefa)"
      ]
    },
    {
      "cell_type": "markdown",
      "source": [
        "ETAPA 2 - STEP ESTRUTURAS DE CONTROLE"
      ],
      "metadata": {
        "id": "FQNLvNlhBM7D"
      }
    },
    {
      "cell_type": "code",
      "source": [
        "while True:\n",
        "  opcao = input(\"Digite uma tarefa: (ou 'sair' para finalizar): \")\n",
        "  if opcao.lower() == 'sair':\n",
        "    break\n",
        "  tarefa = opcao\n",
        "\n",
        "  print(\"Tarefa adicionada: \", tarefa)\n",
        "print(\"Ultima tarefa adicionada: \", tarefa)"
      ],
      "metadata": {
        "colab": {
          "base_uri": "https://localhost:8080/"
        },
        "id": "h39zLzlRBYmi",
        "outputId": "4bdccbd7-fdb0-4500-bf5f-c9a75d0ca98c"
      },
      "execution_count": null,
      "outputs": [
        {
          "output_type": "stream",
          "name": "stdout",
          "text": [
            "Digite uma tarefa: (ou 'sair' para finalizar): Estudar Python\n",
            "Tarefa adicionada:  Estudar Python\n",
            "Digite uma tarefa: (ou 'sair' para finalizar): Ouvir Musica\n",
            "Tarefa adicionada:  Ouvir Musica\n",
            "Digite uma tarefa: (ou 'sair' para finalizar): SAIR\n",
            "Ultima tarefa adicionada:  Ouvir Musica\n"
          ]
        }
      ]
    },
    {
      "cell_type": "markdown",
      "source": [
        "ETAPA 3 - STEP ESTRUTURA DE DADOS"
      ],
      "metadata": {
        "id": "Bgn2-E0H1qYx"
      }
    },
    {
      "cell_type": "code",
      "source": [
        "import json\n",
        "\n",
        "tarefas = []\n",
        "\n",
        "def salvar_tarefas():\n",
        "  with open('tarefas.json', 'w') as arquivo:\n",
        "    json.dump(tarefas, arquivo, indent=4)\n",
        "  print(\"Tarefas salvas com sucesso!\")\n",
        "\n",
        "def carregar_tarefas():\n",
        "  try:\n",
        "    with open('tarefas.json', 'r') as arquivo:\n",
        "      tarefa = json.loads(arquivo)\n",
        "      print(\"Tarefas carregadas com sucesso!\")\n",
        "      return tarefas\n",
        "  except:\n",
        "    print(\"Nenhuma tarefa encontrada! Iniciando uma nova lista!\")\n",
        "    return []\n",
        "\n",
        "def adicionar_tarefa(nome, prioridade):\n",
        "  tarefa = {\n",
        "      'nome': nome,\n",
        "      'prioridade': prioridade\n",
        "  }\n",
        "  tarefas.append(tarefa)\n",
        "  print(\"Tarefa Adicionada: \", tarefa)\n",
        "\n",
        "def listar_tarefas():\n",
        "  print(\"Lista de Tarefas: \")\n",
        "  for tarefa in tarefas:\n",
        "    print(f\"-{tarefa['nome']}(Prioridade {tarefa['prioridade']})\")\n",
        "\n",
        "def remover_tarefas(nome):\n",
        "  for tarefa in tarefas:\n",
        "    if tarefa['nome'] == nome:\n",
        "      tarefas.remove(tarefa)\n",
        "      print(\"Tarefa Removida:\", nome)\n",
        "      break\n",
        "  else:\n",
        "      print(\"Tarefa não foi encontrada!\")\n",
        "\n",
        "tarefas = carregar_tarefas()\n",
        "\n",
        "while True:\n",
        "  print('** Menu de opcoes **')\n",
        "  print(\"1. Adicionar uma tarefa\")\n",
        "  print(\"2. Lista Tarefas\")\n",
        "  print(\"3. Remover Tarefa\")\n",
        "  print(\"4. Salvar Tarefas\")\n",
        "  print(\"5. Sair\")\n",
        "\n",
        "  opcao = input(\"Escolha uma opcao: \")\n",
        "  if opcao == '1':\n",
        "    nome = input('Digite o nome da tarefa: ')\n",
        "    prioridade = input('Digite a prioridade da tarefa')\n",
        "\n",
        "    adicionar_tarefa(nome, prioridade)\n",
        "\n",
        "  elif opcao == '2':\n",
        "    listar_tarefas()\n",
        "\n",
        "  elif opcao == '3':\n",
        "    nome = input(\"Digite o nome da tarefa a ser removida: \")\n",
        "    remover_tarefas(nome)\n",
        "\n",
        "  elif opcao == '4':\n",
        "    salvar_tarefas()\n",
        "\n",
        "  elif opcao == '5':\n",
        "    tarefa = input('Saindo...')\n",
        "    break\n",
        "\n",
        "  else:\n",
        "    print(\"Opcao invalida! \")"
      ],
      "metadata": {
        "id": "3kLhG0VE1uJP",
        "collapsed": true
      },
      "execution_count": null,
      "outputs": []
    },
    {
      "cell_type": "code",
      "source": [],
      "metadata": {
        "id": "xZGqncehynBR"
      },
      "execution_count": null,
      "outputs": []
    }
  ]
}
